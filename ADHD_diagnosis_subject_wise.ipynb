{
  "nbformat": 4,
  "nbformat_minor": 0,
  "metadata": {
    "colab": {
      "provenance": []
    },
    "kernelspec": {
      "name": "python3",
      "display_name": "Python 3"
    },
    "language_info": {
      "name": "python"
    }
  },
  "cells": [
    {
      "cell_type": "code",
      "execution_count": 1,
      "metadata": {
        "colab": {
          "base_uri": "https://localhost:8080/",
          "height": 0
        },
        "id": "sFOuyn5EKFo0",
        "outputId": "00604d07-2213-4156-d5bb-dfd128d23924"
      },
      "outputs": [
        {
          "output_type": "stream",
          "name": "stdout",
          "text": [
            "Mounted at /content/gdrive\n"
          ]
        }
      ],
      "source": [
        "from google.colab import drive\n",
        "drive.mount('/content/gdrive')"
      ]
    },
    {
      "cell_type": "code",
      "source": [
        "%%capture\n",
        "!pip install mne"
      ],
      "metadata": {
        "id": "kwjtRyPCDSiF"
      },
      "execution_count": 2,
      "outputs": []
    },
    {
      "cell_type": "code",
      "source": [
        "# Importing the required libraries\n",
        "import numpy as np\n",
        "import matplotlib.pyplot as plt\n",
        "import pandas as pd\n",
        "import scipy\n",
        "from scipy.io import loadmat\n",
        "from glob import glob\n",
        "import mne\n",
        "import tensorflow as tf"
      ],
      "metadata": {
        "id": "5PIorYcEHRL5"
      },
      "execution_count": 3,
      "outputs": []
    },
    {
      "cell_type": "code",
      "source": [
        "!unzip gdrive/My\\ Drive/Data/ADHD_data.zip"
      ],
      "metadata": {
        "id": "9d6uUshJHYDF",
        "colab": {
          "base_uri": "https://localhost:8080/",
          "height": 0
        },
        "outputId": "0d808518-5fb4-4330-bd10-35b394f14da4"
      },
      "execution_count": 4,
      "outputs": [
        {
          "output_type": "stream",
          "name": "stdout",
          "text": [
            "Archive:  gdrive/My Drive/Data/ADHD_data.zip\n",
            "   creating: ADHD_data/adhd/\n",
            "  inflating: ADHD_data/adhd/1 (1).mat  \n",
            "  inflating: ADHD_data/adhd/1 (10).mat  \n",
            "  inflating: ADHD_data/adhd/1 (11).mat  \n",
            "  inflating: ADHD_data/adhd/1 (12).mat  \n",
            "  inflating: ADHD_data/adhd/1 (13).mat  \n",
            "  inflating: ADHD_data/adhd/1 (14).mat  \n",
            "  inflating: ADHD_data/adhd/1 (15).mat  \n",
            "  inflating: ADHD_data/adhd/1 (16).mat  \n",
            "  inflating: ADHD_data/adhd/1 (17).mat  \n",
            "  inflating: ADHD_data/adhd/1 (18).mat  \n",
            "  inflating: ADHD_data/adhd/1 (19).mat  \n",
            "  inflating: ADHD_data/adhd/1 (2).mat  \n",
            "  inflating: ADHD_data/adhd/1 (20).mat  \n",
            "  inflating: ADHD_data/adhd/1 (21).mat  \n",
            "  inflating: ADHD_data/adhd/1 (22).mat  \n",
            "  inflating: ADHD_data/adhd/1 (23).mat  \n",
            "  inflating: ADHD_data/adhd/1 (24).mat  \n",
            "  inflating: ADHD_data/adhd/1 (25).mat  \n",
            "  inflating: ADHD_data/adhd/1 (26).mat  \n",
            "  inflating: ADHD_data/adhd/1 (27).mat  \n",
            "  inflating: ADHD_data/adhd/1 (28).mat  \n",
            "  inflating: ADHD_data/adhd/1 (29).mat  \n",
            "  inflating: ADHD_data/adhd/1 (3).mat  \n",
            "  inflating: ADHD_data/adhd/1 (30).mat  \n",
            "  inflating: ADHD_data/adhd/1 (4).mat  \n",
            "  inflating: ADHD_data/adhd/1 (5).mat  \n",
            "  inflating: ADHD_data/adhd/1 (6).mat  \n",
            "  inflating: ADHD_data/adhd/1 (7).mat  \n",
            "  inflating: ADHD_data/adhd/1 (8).mat  \n",
            "  inflating: ADHD_data/adhd/1 (9).mat  \n",
            "  inflating: ADHD_data/adhd/11 (1).mat  \n",
            "  inflating: ADHD_data/adhd/11 (10).mat  \n",
            "  inflating: ADHD_data/adhd/11 (11).mat  \n",
            "  inflating: ADHD_data/adhd/11 (12).mat  \n",
            "  inflating: ADHD_data/adhd/11 (13).mat  \n",
            "  inflating: ADHD_data/adhd/11 (14).mat  \n",
            "  inflating: ADHD_data/adhd/11 (15).mat  \n",
            "  inflating: ADHD_data/adhd/11 (16).mat  \n",
            "  inflating: ADHD_data/adhd/11 (17).mat  \n",
            "  inflating: ADHD_data/adhd/11 (18).mat  \n",
            "  inflating: ADHD_data/adhd/11 (19).mat  \n",
            "  inflating: ADHD_data/adhd/11 (2).mat  \n",
            "  inflating: ADHD_data/adhd/11 (20).mat  \n",
            "  inflating: ADHD_data/adhd/11 (21).mat  \n",
            "  inflating: ADHD_data/adhd/11 (22).mat  \n",
            "  inflating: ADHD_data/adhd/11 (23).mat  \n",
            "  inflating: ADHD_data/adhd/11 (24).mat  \n",
            "  inflating: ADHD_data/adhd/11 (25).mat  \n",
            "  inflating: ADHD_data/adhd/11 (26).mat  \n",
            "  inflating: ADHD_data/adhd/11 (27).mat  \n",
            "  inflating: ADHD_data/adhd/11 (28).mat  \n",
            "  inflating: ADHD_data/adhd/11 (29).mat  \n",
            "  inflating: ADHD_data/adhd/11 (3).mat  \n",
            "  inflating: ADHD_data/adhd/11 (30).mat  \n",
            "  inflating: ADHD_data/adhd/11 (31).mat  \n",
            "  inflating: ADHD_data/adhd/11 (4).mat  \n",
            "  inflating: ADHD_data/adhd/11 (5).mat  \n",
            "  inflating: ADHD_data/adhd/11 (6).mat  \n",
            "  inflating: ADHD_data/adhd/11 (7).mat  \n",
            "  inflating: ADHD_data/adhd/11 (8).mat  \n",
            "  inflating: ADHD_data/adhd/11 (9).mat  \n",
            "   creating: ADHD_data/healthy/\n",
            "  inflating: ADHD_data/healthy/2 (1).mat  \n",
            "  inflating: ADHD_data/healthy/2 (10).mat  \n",
            "  inflating: ADHD_data/healthy/2 (11).mat  \n",
            "  inflating: ADHD_data/healthy/2 (12).mat  \n",
            "  inflating: ADHD_data/healthy/2 (13).mat  \n",
            "  inflating: ADHD_data/healthy/2 (14).mat  \n",
            "  inflating: ADHD_data/healthy/2 (15).mat  \n",
            "  inflating: ADHD_data/healthy/2 (16).mat  \n",
            "  inflating: ADHD_data/healthy/2 (17).mat  \n",
            "  inflating: ADHD_data/healthy/2 (18).mat  \n",
            "  inflating: ADHD_data/healthy/2 (19).mat  \n",
            "  inflating: ADHD_data/healthy/2 (2).mat  \n",
            "  inflating: ADHD_data/healthy/2 (20).mat  \n",
            "  inflating: ADHD_data/healthy/2 (21).mat  \n",
            "  inflating: ADHD_data/healthy/2 (22).mat  \n",
            "  inflating: ADHD_data/healthy/2 (23).mat  \n",
            "  inflating: ADHD_data/healthy/2 (24).mat  \n",
            "  inflating: ADHD_data/healthy/2 (25).mat  \n",
            "  inflating: ADHD_data/healthy/2 (26).mat  \n",
            "  inflating: ADHD_data/healthy/2 (27).mat  \n",
            "  inflating: ADHD_data/healthy/2 (28).mat  \n",
            "  inflating: ADHD_data/healthy/2 (29).mat  \n",
            "  inflating: ADHD_data/healthy/2 (3).mat  \n",
            "  inflating: ADHD_data/healthy/2 (30).mat  \n",
            "  inflating: ADHD_data/healthy/2 (4).mat  \n",
            "  inflating: ADHD_data/healthy/2 (5).mat  \n",
            "  inflating: ADHD_data/healthy/2 (6).mat  \n",
            "  inflating: ADHD_data/healthy/2 (7).mat  \n",
            "  inflating: ADHD_data/healthy/2 (8).mat  \n",
            "  inflating: ADHD_data/healthy/2 (9).mat  \n",
            "  inflating: ADHD_data/healthy/22 (1).mat  \n",
            "  inflating: ADHD_data/healthy/22 (10).mat  \n",
            "  inflating: ADHD_data/healthy/22 (11).mat  \n",
            "  inflating: ADHD_data/healthy/22 (12).mat  \n",
            "  inflating: ADHD_data/healthy/22 (13).mat  \n",
            "  inflating: ADHD_data/healthy/22 (14).mat  \n",
            "  inflating: ADHD_data/healthy/22 (15).mat  \n",
            "  inflating: ADHD_data/healthy/22 (16).mat  \n",
            "  inflating: ADHD_data/healthy/22 (17).mat  \n",
            "  inflating: ADHD_data/healthy/22 (18).mat  \n",
            "  inflating: ADHD_data/healthy/22 (19).mat  \n",
            "  inflating: ADHD_data/healthy/22 (2).mat  \n",
            "  inflating: ADHD_data/healthy/22 (20).mat  \n",
            "  inflating: ADHD_data/healthy/22 (21).mat  \n",
            "  inflating: ADHD_data/healthy/22 (22).mat  \n",
            "  inflating: ADHD_data/healthy/22 (23).mat  \n",
            "  inflating: ADHD_data/healthy/22 (24).mat  \n",
            "  inflating: ADHD_data/healthy/22 (25).mat  \n",
            "  inflating: ADHD_data/healthy/22 (26).mat  \n",
            "  inflating: ADHD_data/healthy/22 (27).mat  \n",
            "  inflating: ADHD_data/healthy/22 (28).mat  \n",
            "  inflating: ADHD_data/healthy/22 (29).mat  \n",
            "  inflating: ADHD_data/healthy/22 (3).mat  \n",
            "  inflating: ADHD_data/healthy/22 (30).mat  \n",
            "  inflating: ADHD_data/healthy/22 (4).mat  \n",
            "  inflating: ADHD_data/healthy/22 (5).mat  \n",
            "  inflating: ADHD_data/healthy/22 (6).mat  \n",
            "  inflating: ADHD_data/healthy/22 (7).mat  \n",
            "  inflating: ADHD_data/healthy/22 (8).mat  \n",
            "  inflating: ADHD_data/healthy/22 (9).mat  \n"
          ]
        }
      ]
    },
    {
      "cell_type": "code",
      "source": [
        "adhd_path='/content/ADHD_data/adhd'\n",
        "healthy_path='/content/ADHD_data/healthy'"
      ],
      "metadata": {
        "id": "xL_u2xeAHcng"
      },
      "execution_count": 5,
      "outputs": []
    },
    {
      "cell_type": "code",
      "source": [
        "def convertmat2mne(data):\n",
        "  ch_names = ['Fz', 'Cz', 'Pz', 'C3', 'T3', 'C4', 'T4', 'Fp1', 'Fp2', 'F3', 'F4', 'F7', 'F8', 'P3', 'P4', 'T5', 'T6', 'O1', 'O2']\n",
        "  ch_types = ['eeg'] * 19\n",
        "  sampling_freq=128\n",
        "  info = mne.create_info(ch_names, ch_types=ch_types, sfreq=sampling_freq)\n",
        "  info.set_montage('standard_1020')\n",
        "  data=mne.io.RawArray(data, info)\n",
        "  data.set_eeg_reference()\n",
        "  data.filter(l_freq=1,h_freq=50)\n",
        "  epochs=mne.make_fixed_length_epochs(data,duration=3,overlap=0)\n",
        "  return epochs.get_data()"
      ],
      "metadata": {
        "id": "4Tde9V-aHkPp"
      },
      "execution_count": 6,
      "outputs": []
    },
    {
      "cell_type": "code",
      "source": [
        "%%capture\n",
        "adhd_subject=[]\n",
        "for adhd in glob(adhd_path+'/*.mat'):\n",
        "  data=scipy.io.loadmat(adhd)['sinyal']\n",
        "  data=data.T\n",
        "  print(data.shape)\n",
        "  data=convertmat2mne(data)\n",
        "  adhd_subject.append(data)"
      ],
      "metadata": {
        "id": "42OfaiRSIuTp"
      },
      "execution_count": 7,
      "outputs": []
    },
    {
      "cell_type": "code",
      "source": [
        "%%capture\n",
        "healthy_subject=[]\n",
        "for healthy in glob(healthy_path+'/*.mat'):\n",
        "  data=scipy.io.loadmat(healthy)['sinyal']\n",
        "  data=data.T\n",
        "  data=convertmat2mne(data)\n",
        "  healthy_subject.append(data)"
      ],
      "metadata": {
        "id": "2enycyeaKakz"
      },
      "execution_count": 8,
      "outputs": []
    },
    {
      "cell_type": "code",
      "source": [
        "len(adhd_subject), len(healthy_subject)"
      ],
      "metadata": {
        "colab": {
          "base_uri": "https://localhost:8080/",
          "height": 0
        },
        "id": "ngzR4j8lK6Mj",
        "outputId": "a0dc7af7-1ce1-4f2a-9b97-a4ae5dfbe585"
      },
      "execution_count": 9,
      "outputs": [
        {
          "output_type": "execute_result",
          "data": {
            "text/plain": [
              "(61, 60)"
            ]
          },
          "metadata": {},
          "execution_count": 9
        }
      ]
    },
    {
      "cell_type": "code",
      "source": [
        "control_epochs_labels=[len(i)*[0] for i in healthy_subject]\n",
        "patients_epochs_labels=[len(i)*[1] for i in adhd_subject]\n",
        "print(len(control_epochs_labels),len(patients_epochs_labels))"
      ],
      "metadata": {
        "colab": {
          "base_uri": "https://localhost:8080/",
          "height": 0
        },
        "id": "48WLRBY0S5bG",
        "outputId": "b1ceb217-e180-48df-d2e4-2efb94fba81d"
      },
      "execution_count": 10,
      "outputs": [
        {
          "output_type": "stream",
          "name": "stdout",
          "text": [
            "60 61\n"
          ]
        }
      ]
    },
    {
      "cell_type": "code",
      "source": [
        "data_list=healthy_subject+adhd_subject\n",
        "label_list=control_epochs_labels+patients_epochs_labels\n",
        "groups_list=[[i]*len(j) for i, j in enumerate(data_list)]\n",
        "print(len(data_list),len(label_list),len(groups_list))"
      ],
      "metadata": {
        "colab": {
          "base_uri": "https://localhost:8080/",
          "height": 0
        },
        "id": "ywNI8slLrJ71",
        "outputId": "acff72e6-1ebb-46fb-caf7-f979941a3853"
      },
      "execution_count": 11,
      "outputs": [
        {
          "output_type": "stream",
          "name": "stdout",
          "text": [
            "121 121 121\n"
          ]
        }
      ]
    },
    {
      "cell_type": "code",
      "source": [
        "from sklearn.model_selection import GroupKFold,LeaveOneGroupOut\n",
        "from sklearn.preprocessing import StandardScaler\n",
        "gkf=GroupKFold()\n",
        "from sklearn.base import TransformerMixin,BaseEstimator\n",
        "from sklearn.preprocessing import StandardScaler\n",
        "#https://stackoverflow.com/questions/50125844/how-to-standard-scale-a-3d-matrix\n",
        "class StandardScaler3D(BaseEstimator,TransformerMixin):\n",
        "    #batch, sequence, channels\n",
        "    def __init__(self):\n",
        "        self.scaler = StandardScaler()\n",
        "\n",
        "    def fit(self,X,y=None):\n",
        "        self.scaler.fit(X.reshape(-1, X.shape[2]))\n",
        "        return self\n",
        "\n",
        "    def transform(self,X):\n",
        "        return self.scaler.transform(X.reshape( -1,X.shape[2])).reshape(X.shape)"
      ],
      "metadata": {
        "id": "wWXAcq77rNgo"
      },
      "execution_count": 12,
      "outputs": []
    },
    {
      "cell_type": "code",
      "source": [
        "import numpy as np\n",
        "data_array=np.concatenate(data_list)\n",
        "label_array=np.concatenate(label_list)\n",
        "group_array=np.concatenate(groups_list)\n",
        "data_array=np.moveaxis(data_array,1,2)\n",
        "\n",
        "print(data_array.shape,label_array.shape,group_array.shape)"
      ],
      "metadata": {
        "colab": {
          "base_uri": "https://localhost:8080/",
          "height": 0
        },
        "id": "LD57tgturQK3",
        "outputId": "b86dec8e-ccd5-46d2-dc05-4d694873c9f2"
      },
      "execution_count": 14,
      "outputs": [
        {
          "output_type": "stream",
          "name": "stdout",
          "text": [
            "(5588, 384, 19) (5588,) (5588,)\n"
          ]
        }
      ]
    },
    {
      "cell_type": "code",
      "source": [
        "data_array"
      ],
      "metadata": {
        "colab": {
          "base_uri": "https://localhost:8080/",
          "height": 0
        },
        "id": "lRqj-KZurQv7",
        "outputId": "b29f2f77-07b8-43bb-a988-b74e9d16d7ae"
      },
      "execution_count": 15,
      "outputs": [
        {
          "output_type": "execute_result",
          "data": {
            "text/plain": [
              "array([[[ 8.17124146e-14, -6.25277607e-13,  2.77111667e-13, ...,\n",
              "          1.98951966e-13,  6.18172180e-13,  1.49213975e-13],\n",
              "        [ 1.62341836e+03, -2.85463285e+03,  1.69602696e+03, ...,\n",
              "          1.91993654e+03,  1.91763303e+03,  1.82210961e+03],\n",
              "        [ 1.67137918e+03, -2.83030473e+03,  1.71005453e+03, ...,\n",
              "          1.81878014e+03,  1.78768468e+03,  1.76943188e+03],\n",
              "        ...,\n",
              "        [-5.45151217e+01,  4.17687801e+01,  7.91187556e+01, ...,\n",
              "         -6.37252019e+01, -6.61068009e+01,  7.38737795e-01],\n",
              "        [-6.03931936e+01,  2.92094426e+01,  7.05971761e+01, ...,\n",
              "          1.35505565e+01,  7.76828785e+01,  3.39940393e+01],\n",
              "        [-1.58383485e+02,  4.41888956e+01, -3.37682068e+01, ...,\n",
              "          4.36463384e+01,  7.63025591e+01,  3.65886134e+01]],\n",
              "\n",
              "       [[-1.28864131e+02,  6.30410451e+01, -4.77510241e-01, ...,\n",
              "          4.68946765e+01,  1.12837206e+02, -1.16938261e+00],\n",
              "        [-1.88487055e+02,  1.40712966e+01, -2.45399315e+01, ...,\n",
              "          4.96944321e+01,  1.53336719e+02, -2.88627838e+01],\n",
              "        [-9.05816205e+01,  6.50857182e+01, -7.29659382e+01, ...,\n",
              "         -2.47910901e+01,  1.12334614e+02, -1.05223128e+02],\n",
              "        ...,\n",
              "        [-1.46144889e+02, -1.02655285e+01, -4.21482179e+01, ...,\n",
              "         -5.83018315e-01,  2.46938201e+01, -1.99639545e+00],\n",
              "        [-6.64030560e+01, -2.75540033e+01,  3.31685929e+00, ...,\n",
              "         -3.31090278e+01,  4.40771564e+01,  1.76360536e+01],\n",
              "        [-9.90807414e+01, -6.60092361e+01, -6.40033347e+01, ...,\n",
              "         -5.98812312e+01,  3.71097415e+01,  1.13811015e+02]],\n",
              "\n",
              "       [[-5.33744802e+01, -5.39305481e+01, -9.66543920e+01, ...,\n",
              "         -9.12503451e+01, -4.87127971e+01,  1.35606464e+02],\n",
              "        [-4.20199454e+01, -7.53665137e+01,  1.85308018e+00, ...,\n",
              "         -3.68258411e+01,  5.99028512e+01,  1.71374912e+02],\n",
              "        [-9.45965024e+01, -2.84591933e+01,  4.63014077e+00, ...,\n",
              "          7.88461674e+00,  1.54688917e+01,  1.28232825e+02],\n",
              "        ...,\n",
              "        [-1.31291261e+02, -1.36696033e+02,  2.91203518e+01, ...,\n",
              "          1.96176150e-01, -7.09616942e+00, -6.27680478e+01],\n",
              "        [-2.16462377e+01, -1.12556030e+02, -4.58579357e+01, ...,\n",
              "         -7.44301390e+01, -9.24453434e+01, -7.81417005e+01],\n",
              "        [-9.48835882e+00, -1.56836984e+02, -6.30451212e+01, ...,\n",
              "         -1.71495017e+01,  8.88881659e+00,  2.40162295e+01]],\n",
              "\n",
              "       ...,\n",
              "\n",
              "       [[ 6.18157743e+02,  7.58627156e+02, -8.60365730e+01, ...,\n",
              "          8.55894510e+01,  2.32433272e+01, -1.98559400e+02],\n",
              "        [ 4.15904620e+02,  3.14321045e+02,  1.56821393e+02, ...,\n",
              "          3.37806645e+02,  1.60664398e+02,  1.67574180e+02],\n",
              "        [ 5.42842408e+02,  5.06642968e+02,  2.45208172e+02, ...,\n",
              "          7.44083433e+01, -3.36831711e+02, -5.23235978e+02],\n",
              "        ...,\n",
              "        [ 9.44850640e+01,  9.15380773e+01,  9.29760976e+01, ...,\n",
              "         -7.79810413e+01, -3.38639050e+02, -4.49251728e+02],\n",
              "        [ 5.28292875e+01,  8.79931806e+01, -1.48470676e+02, ...,\n",
              "          1.79940325e+02,  3.11644172e+02,  3.11243981e+02],\n",
              "        [-7.18352467e+01, -2.15144029e+02,  2.94237968e+02, ...,\n",
              "          1.40477556e+02, -2.59775889e+02, -1.95432148e+02]],\n",
              "\n",
              "       [[ 1.27172487e+02,  1.95865929e+02, -7.49361547e+01, ...,\n",
              "          1.07395371e+01,  3.47088202e+01, -1.39837316e+02],\n",
              "        [-1.21559650e+02, -1.92175856e+02,  5.25239348e+01, ...,\n",
              "          1.59736661e+02,  2.16993068e+02,  3.17062689e+02],\n",
              "        [-8.41413036e+00, -4.49452779e+01,  1.25881175e+02, ...,\n",
              "         -1.21423386e+02, -3.44314510e+02, -3.77620920e+02],\n",
              "        ...,\n",
              "        [-9.78953555e+01,  1.01453128e+01,  1.40164375e+01, ...,\n",
              "         -1.45728804e+02, -1.65938359e+02, -3.46909709e+02],\n",
              "        [-7.12936460e+01,  4.45141385e+01, -2.08888819e+02, ...,\n",
              "          1.37755649e+02,  4.30395183e+02,  4.27667191e+02],\n",
              "        [-1.21030268e+02, -2.23131123e+02,  2.93236788e+02, ...,\n",
              "          1.12309550e+02, -1.92926842e+02, -1.24515819e+02]],\n",
              "\n",
              "       [[ 1.66526222e+02,  2.11838823e+02, -7.83712949e+01, ...,\n",
              "         -1.07032690e+01,  3.95067553e+01, -7.36514185e+01],\n",
              "        [-7.70268404e+01, -1.78300700e+02,  7.85800727e+01, ...,\n",
              "          1.58003564e+02,  2.01208455e+02,  3.79585240e+02],\n",
              "        [ 3.29219971e+01, -9.74382831e+01,  1.22077939e+02, ...,\n",
              "         -1.45216978e+02, -3.03158326e+02, -3.14618727e+02],\n",
              "        ...,\n",
              "        [-2.80070769e+01,  4.95064001e+01,  1.24358779e+02, ...,\n",
              "         -2.35344208e+01, -1.60075025e+02, -2.44332786e+02],\n",
              "        [-5.38202506e+01,  3.23395832e+01, -1.21184875e+02, ...,\n",
              "          2.37086020e+02,  4.49424639e+02,  5.13088770e+02],\n",
              "        [-1.64882944e+02, -2.63650719e+02,  3.24130503e+02, ...,\n",
              "          1.20791007e+02, -8.55216182e+01, -1.00879190e+02]]])"
            ]
          },
          "metadata": {},
          "execution_count": 15
        }
      ]
    },
    {
      "cell_type": "code",
      "source": [
        "accuracy=[]\n",
        "for train_index, val_index in gkf.split(data_array, label_array, groups=group_array):\n",
        "    train_features,train_labels=data_array[train_index],label_array[train_index]\n",
        "    val_features,val_labels=data_array[val_index],label_array[val_index]\n",
        "    scaler=StandardScaler3D()\n",
        "    train_features=scaler.fit_transform(train_features)\n",
        "    val_features=scaler.transform(val_features)"
      ],
      "metadata": {
        "id": "ZVfsH1FfrVfZ"
      },
      "execution_count": 16,
      "outputs": []
    },
    {
      "cell_type": "code",
      "source": [
        "train_features.shape"
      ],
      "metadata": {
        "colab": {
          "base_uri": "https://localhost:8080/",
          "height": 0
        },
        "id": "kZop7wZkrYyS",
        "outputId": "652e0027-f630-4de6-f543-934236380bd7"
      },
      "execution_count": 17,
      "outputs": [
        {
          "output_type": "execute_result",
          "data": {
            "text/plain": [
              "(4475, 384, 19)"
            ]
          },
          "metadata": {},
          "execution_count": 17
        }
      ]
    },
    {
      "cell_type": "code",
      "source": [
        "from tensorflow import keras"
      ],
      "metadata": {
        "id": "VRpQSiyVrbxX"
      },
      "execution_count": 18,
      "outputs": []
    },
    {
      "cell_type": "code",
      "source": [
        "import tensorflow as tf\n",
        "tf.__version__\n",
        "\n",
        "!sudo pip3 install keras\n",
        "\n",
        "from tensorflow.python.keras.engine.sequential import Sequential\n",
        "from tensorflow.python.keras.models import Model\n",
        "from tensorflow.python.keras.layers import Input,Dense,concatenate,Flatten,GRU,Conv1D, LSTM\n",
        "#resource:https://github.com/dll-ncai/eeg_pre-diagnostic_screening/blob/master/code/chrononet/chrono.py"
      ],
      "metadata": {
        "colab": {
          "base_uri": "https://localhost:8080/",
          "height": 0
        },
        "id": "4z7xm4ssreRY",
        "outputId": "af41c6b3-6407-471e-e05c-efbdba5842b3"
      },
      "execution_count": 28,
      "outputs": [
        {
          "output_type": "stream",
          "name": "stdout",
          "text": [
            "Looking in indexes: https://pypi.org/simple, https://us-python.pkg.dev/colab-wheels/public/simple/\n",
            "Requirement already satisfied: keras in /usr/local/lib/python3.7/dist-packages (2.8.0)\n"
          ]
        }
      ]
    },
    {
      "cell_type": "code",
      "source": [
        "def block(input):\n",
        "  conv1 = Conv1D(32, 2, strides=2,activation='relu',padding=\"same\")(input)\n",
        "  conv2 = Conv1D(32, 4, strides=2,activation='relu',padding=\"causal\")(input)\n",
        "  conv3 = Conv1D(32, 8, strides=2,activation='relu',padding=\"causal\")(input)\n",
        "  x = concatenate([conv1,conv2,conv3],axis=2)\n",
        "  return x"
      ],
      "metadata": {
        "id": "tsQSmmYUrh-b"
      },
      "execution_count": 20,
      "outputs": []
    },
    {
      "cell_type": "code",
      "source": [
        "input= Input(shape=(384,19))\n",
        "block1=block(input)\n",
        "block2=block(block1)\n",
        "block3=block(block2)"
      ],
      "metadata": {
        "id": "gbtfcsNarnES"
      },
      "execution_count": 21,
      "outputs": []
    },
    {
      "cell_type": "code",
      "source": [
        "gru_out1 = LSTM(32,activation='tanh',return_sequences=True)(block3)\n",
        "gru_out2 = LSTM(32,activation='tanh',return_sequences=True)(gru_out1)\n",
        "gru_out = concatenate([gru_out1,gru_out2],axis=2)\n",
        "gru_out3 = LSTM(32,activation='tanh',return_sequences=True)(gru_out)\n",
        "gru_out = concatenate([gru_out1,gru_out2,gru_out3])\n",
        "gru_out4 = LSTM(32,activation='tanh')(gru_out)"
      ],
      "metadata": {
        "id": "7YrqXxpXroBk"
      },
      "execution_count": 29,
      "outputs": []
    },
    {
      "cell_type": "code",
      "source": [
        "predictions = Dense(1,activation='sigmoid')(gru_out4)\n",
        "model = Model(inputs=input, outputs=predictions)\n",
        "\n",
        "model.compile(optimizer = 'adam', loss = 'binary_crossentropy', metrics=['accuracy'])"
      ],
      "metadata": {
        "id": "Q7KoPjWprqo2"
      },
      "execution_count": 30,
      "outputs": []
    },
    {
      "cell_type": "code",
      "source": [
        "history=model.fit(train_features,train_labels,epochs=10,batch_size=32,validation_data=(val_features,val_labels))"
      ],
      "metadata": {
        "colab": {
          "base_uri": "https://localhost:8080/",
          "height": 0
        },
        "id": "s8oyw1NVrt3p",
        "outputId": "e6f6c82f-30df-4985-a4a9-804fc9104d6e"
      },
      "execution_count": 31,
      "outputs": [
        {
          "output_type": "stream",
          "name": "stdout",
          "text": [
            "Epoch 1/10\n",
            "140/140 [==============================] - 61s 269ms/step - loss: 0.0708 - accuracy: 0.9803 - val_loss: 0.3681 - val_accuracy: 0.9155\n",
            "Epoch 2/10\n",
            "140/140 [==============================] - 34s 243ms/step - loss: 0.0349 - accuracy: 0.9911 - val_loss: 0.2900 - val_accuracy: 0.8949\n",
            "Epoch 3/10\n",
            "140/140 [==============================] - 37s 265ms/step - loss: 0.0094 - accuracy: 0.9984 - val_loss: 0.2356 - val_accuracy: 0.9461\n",
            "Epoch 4/10\n",
            "140/140 [==============================] - 34s 246ms/step - loss: 0.0050 - accuracy: 0.9989 - val_loss: 0.1690 - val_accuracy: 0.9623\n",
            "Epoch 5/10\n",
            "140/140 [==============================] - 35s 247ms/step - loss: 0.0148 - accuracy: 0.9953 - val_loss: 0.2513 - val_accuracy: 0.9173\n",
            "Epoch 6/10\n",
            "140/140 [==============================] - 34s 245ms/step - loss: 0.0021 - accuracy: 0.9998 - val_loss: 0.2690 - val_accuracy: 0.9380\n",
            "Epoch 7/10\n",
            "140/140 [==============================] - 34s 245ms/step - loss: 0.0013 - accuracy: 0.9998 - val_loss: 0.2789 - val_accuracy: 0.9389\n",
            "Epoch 8/10\n",
            "140/140 [==============================] - 34s 245ms/step - loss: 0.0263 - accuracy: 0.9928 - val_loss: 0.1457 - val_accuracy: 0.9578\n",
            "Epoch 9/10\n",
            "140/140 [==============================] - 34s 244ms/step - loss: 0.0056 - accuracy: 0.9980 - val_loss: 0.2192 - val_accuracy: 0.9515\n",
            "Epoch 10/10\n",
            "140/140 [==============================] - 34s 244ms/step - loss: 9.9218e-04 - accuracy: 0.9998 - val_loss: 0.2818 - val_accuracy: 0.9515\n"
          ]
        }
      ]
    },
    {
      "cell_type": "code",
      "source": [
        "test_loss, test_acc = model.evaluate(val_features,val_labels, verbose=2)"
      ],
      "metadata": {
        "colab": {
          "base_uri": "https://localhost:8080/",
          "height": 0
        },
        "id": "9F99MUxkrxYR",
        "outputId": "0d9b91e3-cf30-4849-a7cf-8c3f27d5f135"
      },
      "execution_count": 32,
      "outputs": [
        {
          "output_type": "stream",
          "name": "stdout",
          "text": [
            "35/35 - 1s - loss: 0.2818 - accuracy: 0.9515\n"
          ]
        }
      ]
    },
    {
      "cell_type": "code",
      "source": [
        "print(test_acc)"
      ],
      "metadata": {
        "colab": {
          "base_uri": "https://localhost:8080/",
          "height": 0
        },
        "id": "LzKOERoUr20P",
        "outputId": "45c0c322-3aa2-49a4-bbb4-742327032b7c"
      },
      "execution_count": 33,
      "outputs": [
        {
          "output_type": "stream",
          "name": "stdout",
          "text": [
            "0.9514824748039246\n"
          ]
        }
      ]
    },
    {
      "cell_type": "code",
      "source": [
        "plt.plot(history.history['accuracy'])\n",
        "plt.plot(history.history['val_accuracy'])\n",
        "plt.title('model accuracy')\n",
        "plt.ylabel('accuracy')\n",
        "plt.xlabel('epoch')\n",
        "plt.legend(['train', 'test'], loc='upper left')\n",
        "plt.show()\n",
        "# summarize history for loss\n",
        "plt.plot(history.history['loss'])\n",
        "plt.plot(history.history['val_loss'])\n",
        "plt.title('model loss')\n",
        "plt.ylabel('loss')\n",
        "plt.xlabel('epoch')\n",
        "plt.legend(['train', 'test'], loc='upper left')\n",
        "plt.show()"
      ],
      "metadata": {
        "colab": {
          "base_uri": "https://localhost:8080/",
          "height": 573
        },
        "id": "MtWFKWugr5VT",
        "outputId": "5b39b9f2-ebbe-4534-8b0d-57edd9450fb1"
      },
      "execution_count": 34,
      "outputs": [
        {
          "output_type": "display_data",
          "data": {
            "text/plain": [
              "<Figure size 432x288 with 1 Axes>"
            ],
            "image/png": "[encoded data removed]"
          },
          "metadata": {
            "needs_background": "light"
          }
        },
        {
          "output_type": "display_data",
          "data": {
            "text/plain": [
              "<Figure size 432x288 with 1 Axes>"
            ],
            "image/png": "[encoded data removed]"
          },
          "metadata": {
            "needs_background": "light"
          }
        }
      ]
    }
  ]
}